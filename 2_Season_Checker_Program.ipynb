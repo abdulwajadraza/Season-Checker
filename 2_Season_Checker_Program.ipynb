{
  "nbformat": 4,
  "nbformat_minor": 0,
  "metadata": {
    "colab": {
      "provenance": []
    },
    "kernelspec": {
      "name": "python3",
      "display_name": "Python 3"
    },
    "language_info": {
      "name": "python"
    }
  },
  "cells": [
    {
      "cell_type": "markdown",
      "source": [
        "# Season Checker Program\n",
        "The **Season Checker** program is a simple Python script designed to determine the season based on user input of a month. It takes the user's input, converts it to lowercase for case-insensitivity, and checks against a predefined dictionary that maps each month to its corresponding season. If the input month is valid, the program returns the associated season; otherwise, it indicates that the input is invalid.\n",
        "\n",
        "##Features\n",
        "\n",
        "*   Case-insensitive input handling.\n",
        "*   Clear mapping of months to seasons in the code.\n",
        "*   User-friendly output indicating the determined season.\n",
        "\n",
        "##How to Use:\n",
        "\n",
        "1.   Run the program.\n",
        "2.   Enter the name of a month when prompted.\n",
        "3.   Receive the corresponding season as output.\n"
      ],
      "metadata": {
        "id": "p9-mADFj4BHt"
      }
    },
    {
      "cell_type": "code",
      "execution_count": null,
      "metadata": {
        "id": "p_g8Oekd3__y"
      },
      "outputs": [],
      "source": [
        "#define a function to check season by taking month as input\n",
        "\n",
        "def check_season (month):\n",
        "  #convert month to lowercase to make is case insensitive\n",
        "  month = month.lower()\n",
        "\n",
        "  #making a dictionary of months and seasons\n",
        "  season_mapping = {\n",
        "      'december' : 'Winter',\n",
        "      'january' : 'Winter',\n",
        "      'february' : 'Winter',\n",
        "      'march' : 'Spring',\n",
        "      'april' : 'Spring',\n",
        "      'may' : 'Spring',\n",
        "      'june' : 'Summer',\n",
        "      'july' : 'Summer',\n",
        "      'august' : 'Summer',\n",
        "      'september' : 'Autumn',\n",
        "      'october' : 'Autumn',\n",
        "      'november' : 'Autumn',\n",
        "  }\n",
        "  #checking if the given month is in the month mapping\n",
        "  if month in season_mapping:\n",
        "    return season_mapping[month]\n",
        "  else:\n",
        "      return \"Invalid Month\"\n",
        "\n",
        "# testing the function\n",
        "\n",
        "user_month = input(\"Enter the month: \").capitalize()\n",
        "result = check_season(user_month)\n",
        "\n",
        "print(f\"\\nThe season for the month of {user_month} is {result}.\")"
      ]
    },
    {
      "cell_type": "code",
      "source": [],
      "metadata": {
        "id": "9Ois6--T4vkv"
      },
      "execution_count": null,
      "outputs": []
    }
  ]
}